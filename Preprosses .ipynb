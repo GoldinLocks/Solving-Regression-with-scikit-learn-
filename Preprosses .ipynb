{
 "cells": [
  {
   "cell_type": "code",
   "execution_count": 1,
   "metadata": {
    "ExecuteTime": {
     "end_time": "2020-01-17T11:58:30.439413Z",
     "start_time": "2020-01-17T11:58:26.791986Z"
    }
   },
   "outputs": [],
   "source": [
    "import warnings\n",
    "from pathlib import Path\n",
    "import numpy as np\n",
    "import pandas as pd\n",
    "import seaborn as sns\n",
    "from pylab import rcParams \n",
    "import matplotlib.cm as cm\n",
    "import matplotlib.pyplot as plt\n",
    "from sklearn.model_selection import cross_val_score\n",
    "from sklearn.compose import ColumnTransformer\n",
    "from sklearn.model_selection import train_test_split\n",
    "from sklearn.pipeline import make_pipeline, Pipeline"
   ]
  },
  {
   "cell_type": "code",
   "execution_count": null,
   "metadata": {},
   "outputs": [],
   "source": [
    "from sklearn.preprocessing import LabelEncoder"
   ]
  },
  {
   "cell_type": "code",
   "execution_count": 2,
   "metadata": {
    "ExecuteTime": {
     "end_time": "2020-01-17T11:58:31.907878Z",
     "start_time": "2020-01-17T11:58:31.899616Z"
    }
   },
   "outputs": [],
   "source": [
    "%matplotlib inline\n",
    "sns.set(style=\"darkgrid\", color_codes=True)\n",
    "plt.style.use('dark_background')\n",
    "warnings.filterwarnings('ignore')"
   ]
  },
  {
   "cell_type": "code",
   "execution_count": 3,
   "metadata": {
    "ExecuteTime": {
     "end_time": "2020-01-17T11:58:32.474190Z",
     "start_time": "2020-01-17T11:58:32.233879Z"
    },
    "scrolled": true
   },
   "outputs": [
    {
     "name": "stdout",
     "output_type": "stream",
     "text": [
      "<class 'pandas.core.frame.DataFrame'>\n",
      "RangeIndex: 21613 entries, 0 to 21612\n",
      "Data columns (total 21 columns):\n",
      "id               21613 non-null int64\n",
      "date             21613 non-null object\n",
      "price            21613 non-null float64\n",
      "bedrooms         21613 non-null int64\n",
      "bathrooms        21613 non-null float64\n",
      "sqft_living      21613 non-null int64\n",
      "sqft_lot         21613 non-null int64\n",
      "floors           21613 non-null float64\n",
      "waterfront       21613 non-null int64\n",
      "view             21613 non-null int64\n",
      "condition        21613 non-null int64\n",
      "grade            21613 non-null int64\n",
      "sqft_above       21613 non-null int64\n",
      "sqft_basement    21613 non-null int64\n",
      "yr_built         21613 non-null int64\n",
      "yr_renovated     21613 non-null int64\n",
      "zipcode          21613 non-null int64\n",
      "lat              21613 non-null float64\n",
      "long             21613 non-null float64\n",
      "sqft_living15    21613 non-null int64\n",
      "sqft_lot15       21613 non-null int64\n",
      "dtypes: float64(5), int64(15), object(1)\n",
      "memory usage: 3.5+ MB\n"
     ]
    }
   ],
   "source": [
    "house_sales = pd.read_csv('kc_house_data.csv')\n",
    "house_sales.info()"
   ]
  },
  {
   "cell_type": "code",
   "execution_count": 4,
   "metadata": {
    "ExecuteTime": {
     "end_time": "2020-01-17T11:58:32.635917Z",
     "start_time": "2020-01-17T11:58:32.540212Z"
    }
   },
   "outputs": [
    {
     "data": {
      "text/html": [
       "<div>\n",
       "<style scoped>\n",
       "    .dataframe tbody tr th:only-of-type {\n",
       "        vertical-align: middle;\n",
       "    }\n",
       "\n",
       "    .dataframe tbody tr th {\n",
       "        vertical-align: top;\n",
       "    }\n",
       "\n",
       "    .dataframe thead th {\n",
       "        text-align: right;\n",
       "    }\n",
       "</style>\n",
       "<table border=\"1\" class=\"dataframe\">\n",
       "  <thead>\n",
       "    <tr style=\"text-align: right;\">\n",
       "      <th></th>\n",
       "      <th>price</th>\n",
       "      <th>bedrooms</th>\n",
       "      <th>bathrooms</th>\n",
       "      <th>sqft_living</th>\n",
       "      <th>sqft_lot</th>\n",
       "      <th>floors</th>\n",
       "      <th>waterfront</th>\n",
       "      <th>view</th>\n",
       "      <th>condition</th>\n",
       "      <th>grade</th>\n",
       "      <th>sqft_above</th>\n",
       "      <th>sqft_basement</th>\n",
       "      <th>yr_built</th>\n",
       "      <th>yr_renovated</th>\n",
       "      <th>zipcode</th>\n",
       "      <th>lat</th>\n",
       "      <th>long</th>\n",
       "      <th>sqft_living15</th>\n",
       "      <th>sqft_lot15</th>\n",
       "    </tr>\n",
       "  </thead>\n",
       "  <tbody>\n",
       "    <tr>\n",
       "      <th>count</th>\n",
       "      <td>2.161300e+04</td>\n",
       "      <td>21613.000000</td>\n",
       "      <td>21613.000000</td>\n",
       "      <td>21613.000000</td>\n",
       "      <td>2.161300e+04</td>\n",
       "      <td>21613.000000</td>\n",
       "      <td>21613.000000</td>\n",
       "      <td>21613.000000</td>\n",
       "      <td>21613.000000</td>\n",
       "      <td>21613.000000</td>\n",
       "      <td>21613.000000</td>\n",
       "      <td>21613.000000</td>\n",
       "      <td>21613.000000</td>\n",
       "      <td>21613.000000</td>\n",
       "      <td>21613.000000</td>\n",
       "      <td>21613.000000</td>\n",
       "      <td>21613.000000</td>\n",
       "      <td>21613.000000</td>\n",
       "      <td>21613.000000</td>\n",
       "    </tr>\n",
       "    <tr>\n",
       "      <th>mean</th>\n",
       "      <td>5.400881e+05</td>\n",
       "      <td>3.370842</td>\n",
       "      <td>2.114757</td>\n",
       "      <td>2079.899736</td>\n",
       "      <td>1.510697e+04</td>\n",
       "      <td>1.494309</td>\n",
       "      <td>0.007542</td>\n",
       "      <td>0.234303</td>\n",
       "      <td>3.409430</td>\n",
       "      <td>7.656873</td>\n",
       "      <td>1788.390691</td>\n",
       "      <td>291.509045</td>\n",
       "      <td>1971.005136</td>\n",
       "      <td>84.402258</td>\n",
       "      <td>98077.939805</td>\n",
       "      <td>47.560053</td>\n",
       "      <td>-122.213896</td>\n",
       "      <td>1986.552492</td>\n",
       "      <td>12768.455652</td>\n",
       "    </tr>\n",
       "    <tr>\n",
       "      <th>std</th>\n",
       "      <td>3.671272e+05</td>\n",
       "      <td>0.930062</td>\n",
       "      <td>0.770163</td>\n",
       "      <td>918.440897</td>\n",
       "      <td>4.142051e+04</td>\n",
       "      <td>0.539989</td>\n",
       "      <td>0.086517</td>\n",
       "      <td>0.766318</td>\n",
       "      <td>0.650743</td>\n",
       "      <td>1.175459</td>\n",
       "      <td>828.090978</td>\n",
       "      <td>442.575043</td>\n",
       "      <td>29.373411</td>\n",
       "      <td>401.679240</td>\n",
       "      <td>53.505026</td>\n",
       "      <td>0.138564</td>\n",
       "      <td>0.140828</td>\n",
       "      <td>685.391304</td>\n",
       "      <td>27304.179631</td>\n",
       "    </tr>\n",
       "    <tr>\n",
       "      <th>min</th>\n",
       "      <td>7.500000e+04</td>\n",
       "      <td>0.000000</td>\n",
       "      <td>0.000000</td>\n",
       "      <td>290.000000</td>\n",
       "      <td>5.200000e+02</td>\n",
       "      <td>1.000000</td>\n",
       "      <td>0.000000</td>\n",
       "      <td>0.000000</td>\n",
       "      <td>1.000000</td>\n",
       "      <td>1.000000</td>\n",
       "      <td>290.000000</td>\n",
       "      <td>0.000000</td>\n",
       "      <td>1900.000000</td>\n",
       "      <td>0.000000</td>\n",
       "      <td>98001.000000</td>\n",
       "      <td>47.155900</td>\n",
       "      <td>-122.519000</td>\n",
       "      <td>399.000000</td>\n",
       "      <td>651.000000</td>\n",
       "    </tr>\n",
       "    <tr>\n",
       "      <th>25%</th>\n",
       "      <td>3.219500e+05</td>\n",
       "      <td>3.000000</td>\n",
       "      <td>1.750000</td>\n",
       "      <td>1427.000000</td>\n",
       "      <td>5.040000e+03</td>\n",
       "      <td>1.000000</td>\n",
       "      <td>0.000000</td>\n",
       "      <td>0.000000</td>\n",
       "      <td>3.000000</td>\n",
       "      <td>7.000000</td>\n",
       "      <td>1190.000000</td>\n",
       "      <td>0.000000</td>\n",
       "      <td>1951.000000</td>\n",
       "      <td>0.000000</td>\n",
       "      <td>98033.000000</td>\n",
       "      <td>47.471000</td>\n",
       "      <td>-122.328000</td>\n",
       "      <td>1490.000000</td>\n",
       "      <td>5100.000000</td>\n",
       "    </tr>\n",
       "    <tr>\n",
       "      <th>50%</th>\n",
       "      <td>4.500000e+05</td>\n",
       "      <td>3.000000</td>\n",
       "      <td>2.250000</td>\n",
       "      <td>1910.000000</td>\n",
       "      <td>7.618000e+03</td>\n",
       "      <td>1.500000</td>\n",
       "      <td>0.000000</td>\n",
       "      <td>0.000000</td>\n",
       "      <td>3.000000</td>\n",
       "      <td>7.000000</td>\n",
       "      <td>1560.000000</td>\n",
       "      <td>0.000000</td>\n",
       "      <td>1975.000000</td>\n",
       "      <td>0.000000</td>\n",
       "      <td>98065.000000</td>\n",
       "      <td>47.571800</td>\n",
       "      <td>-122.230000</td>\n",
       "      <td>1840.000000</td>\n",
       "      <td>7620.000000</td>\n",
       "    </tr>\n",
       "    <tr>\n",
       "      <th>75%</th>\n",
       "      <td>6.450000e+05</td>\n",
       "      <td>4.000000</td>\n",
       "      <td>2.500000</td>\n",
       "      <td>2550.000000</td>\n",
       "      <td>1.068800e+04</td>\n",
       "      <td>2.000000</td>\n",
       "      <td>0.000000</td>\n",
       "      <td>0.000000</td>\n",
       "      <td>4.000000</td>\n",
       "      <td>8.000000</td>\n",
       "      <td>2210.000000</td>\n",
       "      <td>560.000000</td>\n",
       "      <td>1997.000000</td>\n",
       "      <td>0.000000</td>\n",
       "      <td>98118.000000</td>\n",
       "      <td>47.678000</td>\n",
       "      <td>-122.125000</td>\n",
       "      <td>2360.000000</td>\n",
       "      <td>10083.000000</td>\n",
       "    </tr>\n",
       "    <tr>\n",
       "      <th>max</th>\n",
       "      <td>7.700000e+06</td>\n",
       "      <td>33.000000</td>\n",
       "      <td>8.000000</td>\n",
       "      <td>13540.000000</td>\n",
       "      <td>1.651359e+06</td>\n",
       "      <td>3.500000</td>\n",
       "      <td>1.000000</td>\n",
       "      <td>4.000000</td>\n",
       "      <td>5.000000</td>\n",
       "      <td>13.000000</td>\n",
       "      <td>9410.000000</td>\n",
       "      <td>4820.000000</td>\n",
       "      <td>2015.000000</td>\n",
       "      <td>2015.000000</td>\n",
       "      <td>98199.000000</td>\n",
       "      <td>47.777600</td>\n",
       "      <td>-121.315000</td>\n",
       "      <td>6210.000000</td>\n",
       "      <td>871200.000000</td>\n",
       "    </tr>\n",
       "  </tbody>\n",
       "</table>\n",
       "</div>"
      ],
      "text/plain": [
       "              price      bedrooms     bathrooms   sqft_living      sqft_lot  \\\n",
       "count  2.161300e+04  21613.000000  21613.000000  21613.000000  2.161300e+04   \n",
       "mean   5.400881e+05      3.370842      2.114757   2079.899736  1.510697e+04   \n",
       "std    3.671272e+05      0.930062      0.770163    918.440897  4.142051e+04   \n",
       "min    7.500000e+04      0.000000      0.000000    290.000000  5.200000e+02   \n",
       "25%    3.219500e+05      3.000000      1.750000   1427.000000  5.040000e+03   \n",
       "50%    4.500000e+05      3.000000      2.250000   1910.000000  7.618000e+03   \n",
       "75%    6.450000e+05      4.000000      2.500000   2550.000000  1.068800e+04   \n",
       "max    7.700000e+06     33.000000      8.000000  13540.000000  1.651359e+06   \n",
       "\n",
       "             floors    waterfront          view     condition         grade  \\\n",
       "count  21613.000000  21613.000000  21613.000000  21613.000000  21613.000000   \n",
       "mean       1.494309      0.007542      0.234303      3.409430      7.656873   \n",
       "std        0.539989      0.086517      0.766318      0.650743      1.175459   \n",
       "min        1.000000      0.000000      0.000000      1.000000      1.000000   \n",
       "25%        1.000000      0.000000      0.000000      3.000000      7.000000   \n",
       "50%        1.500000      0.000000      0.000000      3.000000      7.000000   \n",
       "75%        2.000000      0.000000      0.000000      4.000000      8.000000   \n",
       "max        3.500000      1.000000      4.000000      5.000000     13.000000   \n",
       "\n",
       "         sqft_above  sqft_basement      yr_built  yr_renovated       zipcode  \\\n",
       "count  21613.000000   21613.000000  21613.000000  21613.000000  21613.000000   \n",
       "mean    1788.390691     291.509045   1971.005136     84.402258  98077.939805   \n",
       "std      828.090978     442.575043     29.373411    401.679240     53.505026   \n",
       "min      290.000000       0.000000   1900.000000      0.000000  98001.000000   \n",
       "25%     1190.000000       0.000000   1951.000000      0.000000  98033.000000   \n",
       "50%     1560.000000       0.000000   1975.000000      0.000000  98065.000000   \n",
       "75%     2210.000000     560.000000   1997.000000      0.000000  98118.000000   \n",
       "max     9410.000000    4820.000000   2015.000000   2015.000000  98199.000000   \n",
       "\n",
       "                lat          long  sqft_living15     sqft_lot15  \n",
       "count  21613.000000  21613.000000   21613.000000   21613.000000  \n",
       "mean      47.560053   -122.213896    1986.552492   12768.455652  \n",
       "std        0.138564      0.140828     685.391304   27304.179631  \n",
       "min       47.155900   -122.519000     399.000000     651.000000  \n",
       "25%       47.471000   -122.328000    1490.000000    5100.000000  \n",
       "50%       47.571800   -122.230000    1840.000000    7620.000000  \n",
       "75%       47.678000   -122.125000    2360.000000   10083.000000  \n",
       "max       47.777600   -121.315000    6210.000000  871200.000000  "
      ]
     },
     "execution_count": 4,
     "metadata": {},
     "output_type": "execute_result"
    }
   ],
   "source": [
    "house_sales = house_sales.drop(['date','id'], axis=1)\n",
    "house_sales.describe()"
   ]
  },
  {
   "cell_type": "code",
   "execution_count": 5,
   "metadata": {
    "ExecuteTime": {
     "end_time": "2020-01-17T11:58:32.822839Z",
     "start_time": "2020-01-17T11:58:32.818456Z"
    }
   },
   "outputs": [],
   "source": [
    "X = house_sales.drop('price', axis=1)\n",
    "y = np.log(house_sales.price)\n",
    "#y = house_sales.price"
   ]
  },
  {
   "cell_type": "code",
   "execution_count": 6,
   "metadata": {
    "ExecuteTime": {
     "end_time": "2020-01-17T11:58:33.061805Z",
     "start_time": "2020-01-17T11:58:33.059005Z"
    }
   },
   "outputs": [
    {
     "data": {
      "text/plain": [
       "Index(['price', 'bedrooms', 'bathrooms', 'sqft_living', 'sqft_lot', 'floors',\n",
       "       'waterfront', 'view', 'condition', 'grade', 'sqft_above',\n",
       "       'sqft_basement', 'yr_built', 'yr_renovated', 'zipcode', 'lat', 'long',\n",
       "       'sqft_living15', 'sqft_lot15'],\n",
       "      dtype='object')"
      ]
     },
     "execution_count": 6,
     "metadata": {},
     "output_type": "execute_result"
    }
   ],
   "source": [
    "house_sales.columns"
   ]
  },
  {
   "cell_type": "code",
   "execution_count": 7,
   "metadata": {
    "ExecuteTime": {
     "end_time": "2020-01-17T11:58:33.332454Z",
     "start_time": "2020-01-17T11:58:33.329943Z"
    }
   },
   "outputs": [],
   "source": [
    "categorical_columns = ['grade', 'waterfront', 'view', 'condition']\n",
    "\n",
    "numerical_columns = ['bedrooms', 'bathrooms', 'sqft_living',\n",
    "                    'sqft_lot', 'floors', 'yr_renovated',\n",
    "                    'sqft_above', 'sqft_basement', 'yr_built', 'zipcode',\n",
    "                    'lat', 'long', 'sqft_living15', 'sqft_lot15']"
   ]
  },
  {
   "cell_type": "code",
   "execution_count": 8,
   "metadata": {
    "ExecuteTime": {
     "end_time": "2020-01-17T11:58:33.646399Z",
     "start_time": "2020-01-17T11:58:33.642049Z"
    }
   },
   "outputs": [],
   "source": [
    "X = X[categorical_columns + numerical_columns]"
   ]
  },
  {
   "cell_type": "code",
   "execution_count": 9,
   "metadata": {
    "ExecuteTime": {
     "end_time": "2020-01-17T11:58:33.909452Z",
     "start_time": "2020-01-17T11:58:33.905671Z"
    }
   },
   "outputs": [],
   "source": [
    "# To use this experimental feature, we need to explicitly ask for it:\n",
    "N_SPLITS = 5\n",
    "rng = np.random.RandomState(0)\n",
    "\n",
    "# ~2k samples is enough for the purpose of the example.\n",
    "# Remove the following two lines for a slower run with different error bars.\n",
    "X_full = X.values\n",
    "y_full = y.values\n",
    "n_samples, n_features = X_full.shape"
   ]
  },
  {
   "cell_type": "code",
   "execution_count": 10,
   "metadata": {
    "ExecuteTime": {
     "end_time": "2020-01-17T11:58:34.527121Z",
     "start_time": "2020-01-17T11:58:34.131182Z"
    }
   },
   "outputs": [],
   "source": [
    "from sklearn.ensemble import RandomForestRegressor"
   ]
  },
  {
   "cell_type": "code",
   "execution_count": 11,
   "metadata": {
    "ExecuteTime": {
     "end_time": "2020-01-17T11:58:34.585120Z",
     "start_time": "2020-01-17T11:58:34.582225Z"
    }
   },
   "outputs": [],
   "source": [
    "# Estimate the score on the entire dataset, with no missing values\n",
    "br_estimator = RandomForestRegressor(random_state=0, criterion='friedman_mse',\n",
    "                                        min_samples_split = 8,\n",
    "                                        max_leaf_nodes=None,\n",
    "                                        min_impurity_decrease=0.0,\n",
    "                                        min_samples_leaf=3, \n",
    "                                        n_estimators=30,\n",
    "                                        min_weight_fraction_leaf=0.0)"
   ]
  },
  {
   "cell_type": "code",
   "execution_count": 12,
   "metadata": {
    "ExecuteTime": {
     "end_time": "2020-01-17T11:58:48.376904Z",
     "start_time": "2020-01-17T11:58:34.658201Z"
    }
   },
   "outputs": [],
   "source": [
    "score_full_data = pd.DataFrame(\n",
    "    cross_val_score(\n",
    "        br_estimator, X_full, y_full, scoring='neg_mean_squared_error',\n",
    "        cv=N_SPLITS\n",
    "    ),\n",
    "    \n",
    "    columns=['Full_Data']\n",
    ")"
   ]
  },
  {
   "cell_type": "code",
   "execution_count": 13,
   "metadata": {
    "ExecuteTime": {
     "end_time": "2020-01-17T11:58:48.436282Z",
     "start_time": "2020-01-17T11:58:48.431663Z"
    }
   },
   "outputs": [],
   "source": [
    "# Add a single missing value to each row\n",
    "X_missing = X_full.copy()\n",
    "y_missing = y_full\n",
    "missing_samples = np.arange(n_samples)\n",
    "missing_features = rng.choice(n_features, n_samples, replace=True)\n",
    "X_missing[missing_samples, missing_features] = np.nan"
   ]
  },
  {
   "cell_type": "code",
   "execution_count": 14,
   "metadata": {
    "ExecuteTime": {
     "end_time": "2020-01-17T11:58:48.640913Z",
     "start_time": "2020-01-17T11:58:48.493868Z"
    }
   },
   "outputs": [],
   "source": [
    "from sklearn.impute import SimpleImputer\n",
    "from sklearn.experimental import enable_iterative_imputer  \n",
    "from sklearn.impute import IterativeImputer\n",
    "from sklearn.preprocessing import OneHotEncoder"
   ]
  },
  {
   "cell_type": "code",
   "execution_count": 15,
   "metadata": {
    "ExecuteTime": {
     "end_time": "2020-01-17T11:59:16.373460Z",
     "start_time": "2020-01-17T11:58:48.698413Z"
    }
   },
   "outputs": [],
   "source": [
    "score_simple_imputer = pd.DataFrame()\n",
    "for strategy in ('mean', 'median'):\n",
    "    estimator = make_pipeline(\n",
    "        SimpleImputer(missing_values=np.nan, strategy=strategy),\n",
    "        br_estimator\n",
    "    )\n",
    "    score_simple_imputer[strategy] = cross_val_score(\n",
    "        estimator, X_missing, y_missing, scoring='neg_mean_squared_error',\n",
    "        cv=N_SPLITS   \n",
    "    )"
   ]
  },
  {
   "cell_type": "code",
   "execution_count": 16,
   "metadata": {
    "ExecuteTime": {
     "end_time": "2020-01-17T12:08:00.034837Z",
     "start_time": "2020-01-17T11:59:16.432595Z"
    }
   },
   "outputs": [],
   "source": [
    "score_simple_imputer_onehot = pd.DataFrame()\n",
    "for strategy in ('mean', 'median'):\n",
    "    estimator = make_pipeline(\n",
    "        SimpleImputer(missing_values=np.nan, strategy=strategy),\n",
    "        OneHotEncoder(categories='auto', handle_unknown='ignore'),\n",
    "        br_estimator\n",
    "    )\n",
    "    \n",
    "    score_simple_imputer_onehot[strategy] = cross_val_score(\n",
    "        estimator, X_missing, y_missing, scoring='neg_mean_squared_error',\n",
    "        cv=N_SPLITS\n",
    "    )"
   ]
  },
  {
   "cell_type": "code",
   "execution_count": 17,
   "metadata": {
    "ExecuteTime": {
     "end_time": "2020-01-17T12:08:00.106735Z",
     "start_time": "2020-01-17T12:08:00.104444Z"
    }
   },
   "outputs": [],
   "source": [
    "estimator = make_pipeline(\n",
    "    IterativeImputer(random_state=0, estimator=br_estimator),\n",
    "    br_estimator\n",
    "    )"
   ]
  },
  {
   "cell_type": "code",
   "execution_count": 18,
   "metadata": {
    "ExecuteTime": {
     "end_time": "2020-01-17T12:08:13.437396Z",
     "start_time": "2020-01-17T12:08:00.182453Z"
    }
   },
   "outputs": [],
   "source": [
    "score_iterative_imputer = pd.DataFrame(\n",
    "    cross_val_score(\n",
    "        estimator, X_full, y_full, scoring='neg_mean_squared_error',\n",
    "        cv=N_SPLITS\n",
    "    ),\n",
    "    \n",
    "    columns=['Full_Data']\n",
    ")"
   ]
  },
  {
   "cell_type": "code",
   "execution_count": 19,
   "metadata": {
    "ExecuteTime": {
     "end_time": "2020-01-17T12:08:13.520333Z",
     "start_time": "2020-01-17T12:08:13.518041Z"
    }
   },
   "outputs": [],
   "source": [
    "estimator = make_pipeline(\n",
    "    IterativeImputer(random_state=0, estimator=br_estimator),\n",
    "    OneHotEncoder(categories='auto', handle_unknown='ignore'),\n",
    "    br_estimator\n",
    "    )"
   ]
  },
  {
   "cell_type": "code",
   "execution_count": 20,
   "metadata": {
    "ExecuteTime": {
     "end_time": "2020-01-17T12:12:19.595584Z",
     "start_time": "2020-01-17T12:08:13.596629Z"
    }
   },
   "outputs": [],
   "source": [
    "score_iterative_imputer_onehot = pd.DataFrame(\n",
    "    cross_val_score(\n",
    "        estimator, X_full, y_full, scoring='neg_mean_squared_error',\n",
    "        cv=N_SPLITS\n",
    "    ),\n",
    "    \n",
    "    columns=['Full_Data']\n",
    ")"
   ]
  },
  {
   "cell_type": "code",
   "execution_count": 21,
   "metadata": {
    "ExecuteTime": {
     "end_time": "2020-01-17T12:12:19.678915Z",
     "start_time": "2020-01-17T12:12:19.673784Z"
    }
   },
   "outputs": [],
   "source": [
    "scores = pd.concat(\n",
    "    [score_full_data, score_simple_imputer, score_iterative_imputer, score_iterative_imputer_onehot, \n",
    "     score_simple_imputer_onehot],\n",
    "    keys=['Original', 'SimpleImputer', 'IterativeImputer', 'Iterative_&_Onehot', 'Simple_&_Onehot'], axis=1\n",
    "    \n",
    ")"
   ]
  },
  {
   "cell_type": "code",
   "execution_count": 22,
   "metadata": {
    "ExecuteTime": {
     "end_time": "2020-01-17T12:12:19.805149Z",
     "start_time": "2020-01-17T12:12:19.800359Z"
    }
   },
   "outputs": [],
   "source": [
    "means = -scores.mean()\n",
    "errors = scores.std()"
   ]
  },
  {
   "cell_type": "code",
   "execution_count": 23,
   "metadata": {
    "ExecuteTime": {
     "end_time": "2020-01-17T12:12:20.401243Z",
     "start_time": "2020-01-17T12:12:19.902405Z"
    }
   },
   "outputs": [
    {
     "data": {
      "image/png": "[encoded data removed]",
      "text/plain": [
       "<Figure size 936x432 with 1 Axes>"
      ]
     },
     "metadata": {},
     "output_type": "display_data"
    }
   ],
   "source": [
    "fig, ax = plt.subplots(figsize=(13, 6))\n",
    "colors0 = sns.color_palette('brg', len(means))\n",
    "means.plot.barh(xerr=errors, ax=ax, colors=colors0)\n",
    "for i, v in enumerate(means.values):\n",
    "        ax.text(v + 0.0075, i, str(round(v,3)), color='white', fontweight='bold', fontsize=12, va='center', ha = 'right')\n",
    "ax.set_title('Kings_County_Housing Regression with Different Imputation Methods')\n",
    "ax.set_xlabel('MSE')\n",
    "ax.set_yticks(np.arange(means.shape[0]))\n",
    "ax.set_yticklabels([\" w/ \".join(label) for label in means.index.get_values()])\n",
    "plt.margins(x=0.18)\n",
    "plt.grid(False)\n",
    "plt.show()"
   ]
  },
  {
   "cell_type": "code",
   "execution_count": 24,
   "metadata": {
    "ExecuteTime": {
     "end_time": "2020-01-17T12:12:20.498082Z",
     "start_time": "2020-01-17T12:12:20.494782Z"
    }
   },
   "outputs": [],
   "source": [
    "from sklearn.preprocessing import MinMaxScaler\n",
    "from sklearn.preprocessing import MaxAbsScaler\n",
    "from sklearn.preprocessing import StandardScaler\n",
    "from sklearn.preprocessing import RobustScaler\n",
    "from sklearn.preprocessing import Normalizer\n",
    "from sklearn.preprocessing import QuantileTransformer\n",
    "from sklearn.preprocessing import PowerTransformer"
   ]
  },
  {
   "cell_type": "code",
   "execution_count": 25,
   "metadata": {
    "ExecuteTime": {
     "end_time": "2020-01-17T12:12:20.604837Z",
     "start_time": "2020-01-17T12:12:20.596013Z"
    }
   },
   "outputs": [],
   "source": [
    "estimator = make_pipeline(\n",
    "    IterativeImputer(random_state=0, estimator=br_estimator),\n",
    "    MaxAbsScaler(),\n",
    "    br_estimator\n",
    "    )"
   ]
  },
  {
   "cell_type": "code",
   "execution_count": 26,
   "metadata": {
    "ExecuteTime": {
     "end_time": "2020-01-17T12:12:33.657970Z",
     "start_time": "2020-01-17T12:12:20.700088Z"
    }
   },
   "outputs": [],
   "source": [
    "score_iterative_imputer_maxabs = pd.DataFrame(\n",
    "    cross_val_score(\n",
    "        estimator, X_full, y_full, scoring='neg_mean_squared_error',\n",
    "        cv=N_SPLITS\n",
    "    ),\n",
    "    \n",
    "    columns=['Full_Data']\n",
    ")"
   ]
  },
  {
   "cell_type": "code",
   "execution_count": 27,
   "metadata": {
    "ExecuteTime": {
     "end_time": "2020-01-17T12:12:33.747671Z",
     "start_time": "2020-01-17T12:12:33.745235Z"
    }
   },
   "outputs": [],
   "source": [
    "estimator = make_pipeline(\n",
    "    IterativeImputer(random_state=0, estimator=br_estimator),\n",
    "    MinMaxScaler(),\n",
    "    br_estimator\n",
    "    )"
   ]
  },
  {
   "cell_type": "code",
   "execution_count": 28,
   "metadata": {
    "ExecuteTime": {
     "end_time": "2020-01-17T12:12:47.143238Z",
     "start_time": "2020-01-17T12:12:33.845897Z"
    }
   },
   "outputs": [],
   "source": [
    "score_iterative_imputer_mnmxabs = pd.DataFrame(\n",
    "    cross_val_score(\n",
    "        estimator, X_full, y_full, scoring='neg_mean_squared_error',\n",
    "        cv=N_SPLITS\n",
    "    ),\n",
    "    \n",
    "    columns=['Full_Data']\n",
    ")"
   ]
  },
  {
   "cell_type": "code",
   "execution_count": 29,
   "metadata": {
    "ExecuteTime": {
     "end_time": "2020-01-17T12:12:47.238068Z",
     "start_time": "2020-01-17T12:12:47.234986Z"
    }
   },
   "outputs": [],
   "source": [
    "estimator = make_pipeline(\n",
    "    IterativeImputer(random_state=0, estimator=br_estimator),\n",
    "    StandardScaler(),\n",
    "    br_estimator\n",
    "    )"
   ]
  },
  {
   "cell_type": "code",
   "execution_count": 30,
   "metadata": {
    "ExecuteTime": {
     "end_time": "2020-01-17T12:13:00.551937Z",
     "start_time": "2020-01-17T12:12:47.338256Z"
    }
   },
   "outputs": [],
   "source": [
    "score_iterative_imputer_stdscl = pd.DataFrame(\n",
    "    cross_val_score(\n",
    "        estimator, X_full, y_full, scoring='neg_mean_squared_error',\n",
    "        cv=N_SPLITS\n",
    "    ),\n",
    "    \n",
    "    columns=['Full_Data']\n",
    ")"
   ]
  },
  {
   "cell_type": "code",
   "execution_count": 31,
   "metadata": {
    "ExecuteTime": {
     "end_time": "2020-01-17T12:13:00.659437Z",
     "start_time": "2020-01-17T12:13:00.656171Z"
    }
   },
   "outputs": [],
   "source": [
    "estimator = make_pipeline(\n",
    "    IterativeImputer(random_state=0, estimator=br_estimator),\n",
    "    RobustScaler(quantile_range=(25.0, 75.0)),\n",
    "    br_estimator\n",
    "    )"
   ]
  },
  {
   "cell_type": "code",
   "execution_count": 32,
   "metadata": {
    "ExecuteTime": {
     "end_time": "2020-01-17T12:13:13.832459Z",
     "start_time": "2020-01-17T12:13:00.758164Z"
    }
   },
   "outputs": [],
   "source": [
    "score_iterative_imputer_rbstscl = pd.DataFrame(\n",
    "    cross_val_score(\n",
    "        estimator, X_full, y_full, scoring='neg_mean_squared_error',\n",
    "        cv=N_SPLITS\n",
    "    ),\n",
    "    \n",
    "    columns=['Full_Data']\n",
    ")"
   ]
  },
  {
   "cell_type": "code",
   "execution_count": 33,
   "metadata": {
    "ExecuteTime": {
     "end_time": "2020-01-17T12:13:13.945887Z",
     "start_time": "2020-01-17T12:13:13.943525Z"
    }
   },
   "outputs": [],
   "source": [
    "estimator = make_pipeline(\n",
    "    IterativeImputer(random_state=0, estimator=br_estimator),\n",
    "    Normalizer(),\n",
    "    br_estimator\n",
    "    )"
   ]
  },
  {
   "cell_type": "code",
   "execution_count": 34,
   "metadata": {
    "ExecuteTime": {
     "end_time": "2020-01-17T12:13:34.448485Z",
     "start_time": "2020-01-17T12:13:14.049076Z"
    }
   },
   "outputs": [],
   "source": [
    "score_iterative_imputer_nrmlzr = pd.DataFrame(\n",
    "    cross_val_score(\n",
    "        estimator, X_full, y_full, scoring='neg_mean_squared_error',\n",
    "        cv=N_SPLITS\n",
    "    ),\n",
    "    \n",
    "    columns=['Full_Data']\n",
    ")"
   ]
  },
  {
   "cell_type": "code",
   "execution_count": 35,
   "metadata": {
    "ExecuteTime": {
     "end_time": "2020-01-17T12:13:34.571189Z",
     "start_time": "2020-01-17T12:13:34.568942Z"
    }
   },
   "outputs": [],
   "source": [
    "estimator = make_pipeline(\n",
    "    IterativeImputer(random_state=0, estimator=br_estimator),\n",
    "    QuantileTransformer(n_quantiles=730, output_distribution='normal', random_state=0),\n",
    "    br_estimator\n",
    "    )"
   ]
  },
  {
   "cell_type": "code",
   "execution_count": 36,
   "metadata": {
    "ExecuteTime": {
     "end_time": "2020-01-17T12:13:48.162537Z",
     "start_time": "2020-01-17T12:13:34.680056Z"
    }
   },
   "outputs": [],
   "source": [
    "score_iterative_imputer_qt = pd.DataFrame(\n",
    "    cross_val_score(\n",
    "        estimator, X_full, y_full, scoring='neg_mean_squared_error',\n",
    "        cv=N_SPLITS\n",
    "    ),\n",
    "    \n",
    "    columns=['Full_Data']\n",
    ")"
   ]
  },
  {
   "cell_type": "code",
   "execution_count": 37,
   "metadata": {
    "ExecuteTime": {
     "end_time": "2020-01-17T12:13:48.271760Z",
     "start_time": "2020-01-17T12:13:48.268920Z"
    }
   },
   "outputs": [],
   "source": [
    "estimator = make_pipeline(\n",
    "    IterativeImputer(random_state=0, estimator=br_estimator),\n",
    "    PowerTransformer(),\n",
    "    br_estimator\n",
    "    )"
   ]
  },
  {
   "cell_type": "code",
   "execution_count": 38,
   "metadata": {
    "ExecuteTime": {
     "end_time": "2020-01-17T12:14:02.993881Z",
     "start_time": "2020-01-17T12:13:48.379765Z"
    }
   },
   "outputs": [],
   "source": [
    "score_iterative_imputer_pwr = pd.DataFrame(\n",
    "    cross_val_score(\n",
    "        estimator, X_full, y_full, scoring='neg_mean_squared_error',\n",
    "        cv=N_SPLITS\n",
    "    ),\n",
    "    \n",
    "    columns=['Full_Data']\n",
    ")"
   ]
  },
  {
   "cell_type": "code",
   "execution_count": 39,
   "metadata": {
    "ExecuteTime": {
     "end_time": "2020-01-17T12:14:03.105498Z",
     "start_time": "2020-01-17T12:14:03.101742Z"
    }
   },
   "outputs": [],
   "source": [
    "scores0 = pd.concat(\n",
    "    [score_iterative_imputer_maxabs, score_iterative_imputer_mnmxabs, score_iterative_imputer_stdscl, \n",
    "    score_iterative_imputer_rbstscl, score_iterative_imputer_nrmlzr, score_iterative_imputer_qt, \n",
    "    score_iterative_imputer_pwr],\n",
    "    keys=['iterative_maxabs', 'iterative_mnmxabs', 'iterative_stdscl', 'iterative_rbstscl', 'iterative_nrmlzr',\n",
    "          'iterative_qt', 'iterative_pwr'], axis=1\n",
    ")"
   ]
  },
  {
   "cell_type": "code",
   "execution_count": 40,
   "metadata": {
    "ExecuteTime": {
     "end_time": "2020-01-17T12:14:03.245438Z",
     "start_time": "2020-01-17T12:14:03.241926Z"
    }
   },
   "outputs": [],
   "source": [
    "means0 = -scores0.mean()\n",
    "errors0 = scores0.std()"
   ]
  },
  {
   "cell_type": "code",
   "execution_count": 41,
   "metadata": {
    "ExecuteTime": {
     "end_time": "2020-01-17T12:14:03.670849Z",
     "start_time": "2020-01-17T12:14:03.366559Z"
    }
   },
   "outputs": [
    {
     "data": {
      "image/png": "[encoded data removed]",
      "text/plain": [
       "<Figure size 936x432 with 1 Axes>"
      ]
     },
     "metadata": {},
     "output_type": "display_data"
    }
   ],
   "source": [
    "fig, ax = plt.subplots(figsize=(13, 6))\n",
    "means0.plot.barh(xerr=errors0, ax=ax, colors=colors0)\n",
    "for i, v in enumerate(means0.values):\n",
    "        ax.text(v + 0.0075, i, str(round(v,3)), color='white', fontweight='bold', fontsize=12, va='center', ha = 'right')\n",
    "ax.set_title('Kings_County_Housing Regression with Different Scaling Methods')\n",
    "ax.set_xlabel('MSE')\n",
    "ax.set_yticks(np.arange(means0.shape[0]))\n",
    "ax.set_yticklabels([\" w/ \".join(label) for label in means0.index.get_values()])\n",
    "plt.margins(x=0.18)\n",
    "plt.grid(False)\n",
    "plt.show()"
   ]
  },
  {
   "cell_type": "code",
   "execution_count": 42,
   "metadata": {
    "ExecuteTime": {
     "end_time": "2020-01-17T12:14:03.786637Z",
     "start_time": "2020-01-17T12:14:03.784458Z"
    }
   },
   "outputs": [],
   "source": [
    "from sklearn.linear_model import Ridge, SGDRegressor\n",
    "from sklearn.tree import DecisionTreeRegressor\n",
    "from sklearn.neighbors import KNeighborsRegressor\n",
    "from sklearn.svm import LinearSVR"
   ]
  },
  {
   "cell_type": "code",
   "execution_count": 43,
   "metadata": {
    "ExecuteTime": {
     "end_time": "2020-01-17T12:14:03.907739Z",
     "start_time": "2020-01-17T12:14:03.900700Z"
    }
   },
   "outputs": [],
   "source": [
    "estimators = [\n",
    "    \n",
    "    Ridge(alpha=1.091599236819301, tol=0.0012744858310400511, random_state=0, fit_intercept=True),\n",
    "    \n",
    "    SGDRegressor(loss='squared_loss', penalty='l2', alpha=0.00010000000000000026, fit_intercept=True,\n",
    "                 tol=0.00010000000000000009, verbose=0, random_state=0,\n",
    "                 learning_rate='invscaling', eta0=0.01, power_t=0.25, average=False),\n",
    "    \n",
    "    DecisionTreeRegressor(criterion='friedman_mse', splitter='best', max_depth=1.9985657698763915,\n",
    "                          min_samples_split=2, min_samples_leaf=13, min_weight_fraction_leaf=0.0,\n",
    "                          max_features=1.0, random_state=0, max_leaf_nodes=None, min_impurity_decrease=0.0, \n",
    "                          min_impurity_split=5),\n",
    "    \n",
    "    LinearSVR(epsilon=0.003651447080658049, tol=2.547030869157463e-05, C=15.568148066386238,\n",
    "              loss='squared_epsilon_insensitive', fit_intercept=True,\n",
    "              intercept_scaling=1.0, dual=False, verbose=0, random_state=0),\n",
    "    \n",
    "    KNeighborsRegressor(n_neighbors=1, weights='uniform', p=2),\n",
    "    \n",
    "    RandomForestRegressor(random_state=0, criterion='friedman_mse', min_samples_split = 8, \n",
    "                          max_leaf_nodes=None, min_impurity_decrease=0.0, min_samples_leaf=3, \n",
    "                          n_estimators=30, min_weight_fraction_leaf=0.0)\n",
    "]"
   ]
  },
  {
   "cell_type": "code",
   "execution_count": 44,
   "metadata": {
    "ExecuteTime": {
     "end_time": "2020-01-17T12:53:58.726031Z",
     "start_time": "2020-01-17T12:14:04.044201Z"
    }
   },
   "outputs": [],
   "source": [
    "score_iterative_qt = pd.DataFrame()\n",
    "for impute_estimator in estimators:\n",
    "    estimator = make_pipeline(\n",
    "        QuantileTransformer(n_quantiles=730, output_distribution='normal', random_state=0),\n",
    "        IterativeImputer(random_state=0, estimator=impute_estimator),\n",
    "        impute_estimator\n",
    "    )\n",
    "    score_iterative_qt[impute_estimator.__class__.__name__] = \\\n",
    "        cross_val_score(\n",
    "            estimator, X_missing, y_missing, scoring='neg_mean_squared_error',\n",
    "            cv=N_SPLITS\n",
    "        )"
   ]
  },
  {
   "cell_type": "code",
   "execution_count": 45,
   "metadata": {
    "ExecuteTime": {
     "end_time": "2020-01-17T12:53:58.857303Z",
     "start_time": "2020-01-17T12:53:58.852272Z"
    }
   },
   "outputs": [],
   "source": [
    "scores1 = pd.concat([score_iterative_qt], keys=['iterative_qt'], axis=1)\n",
    "means1 = -scores1.mean()\n",
    "errors1 = scores1.std()"
   ]
  },
  {
   "cell_type": "code",
   "execution_count": 46,
   "metadata": {
    "ExecuteTime": {
     "end_time": "2020-01-17T12:53:59.395451Z",
     "start_time": "2020-01-17T12:53:58.989641Z"
    }
   },
   "outputs": [
    {
     "data": {
      "image/png": "[encoded data removed]",
      "text/plain": [
       "<Figure size 936x432 with 1 Axes>"
      ]
     },
     "metadata": {},
     "output_type": "display_data"
    }
   ],
   "source": [
    "# plot boston results\n",
    "fig, ax = plt.subplots(figsize=(13, 6))\n",
    "colors1 = sns.color_palette('brg', len(means1))\n",
    "means1.plot.barh(xerr=errors1, ax=ax, colors=colors1)\n",
    "for i, v in enumerate(means1.values):\n",
    "    ax.text(v + 0.03, i, str(round(v,3)), color='white', fontweight='bold', fontsize=12, va='center', ha = 'right')\n",
    "ax.set_title('Kings_County_Housing Regression with Different Regressors')\n",
    "ax.set_xlabel('MSE (smaller is better)')\n",
    "ax.set_yticks(np.arange(means1.shape[0]))\n",
    "ax.set_yticklabels([\" w/ \".join(label) for label in means1.index.get_values()])\n",
    "plt.margins(x=0.18)\n",
    "plt.grid(False)\n",
    "plt.show()"
   ]
  },
  {
   "cell_type": "code",
   "execution_count": null,
   "metadata": {},
   "outputs": [],
   "source": []
  }
 ],
 "metadata": {
  "hide_input": false,
  "kernelspec": {
   "display_name": "Python 3",
   "language": "python",
   "name": "python3"
  },
  "language_info": {
   "codemirror_mode": {
    "name": "ipython",
    "version": 3
   },
   "file_extension": ".py",
   "mimetype": "text/x-python",
   "name": "python",
   "nbconvert_exporter": "python",
   "pygments_lexer": "ipython3",
   "version": "3.6.9"
  },
  "toc": {
   "base_numbering": 1,
   "nav_menu": {},
   "number_sections": true,
   "sideBar": true,
   "skip_h1_title": false,
   "title_cell": "Table of Contents",
   "title_sidebar": "Contents",
   "toc_cell": false,
   "toc_position": {
    "height": "calc(100% - 180px)",
    "left": "10px",
    "top": "150px",
    "width": "512px"
   },
   "toc_section_display": true,
   "toc_window_display": false
  },
  "varInspector": {
   "cols": {
    "lenName": 16,
    "lenType": 16,
    "lenVar": 40
   },
   "kernels_config": {
    "python": {
     "delete_cmd_postfix": "",
     "delete_cmd_prefix": "del ",
     "library": "var_list.py",
     "varRefreshCmd": "print(var_dic_list())"
    },
    "r": {
     "delete_cmd_postfix": ") ",
     "delete_cmd_prefix": "rm(",
     "library": "var_list.r",
     "varRefreshCmd": "cat(var_dic_list()) "
    }
   },
   "types_to_exclude": [
    "module",
    "function",
    "builtin_function_or_method",
    "instance",
    "_Feature"
   ],
   "window_display": false
  }
 },
 "nbformat": 4,
 "nbformat_minor": 4
}
