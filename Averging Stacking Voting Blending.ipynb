{
 "cells": [
  {
   "cell_type": "code",
   "execution_count": 2,
   "metadata": {
    "ExecuteTime": {
     "end_time": "2020-01-24T00:55:23.592639Z",
     "start_time": "2020-01-24T00:55:23.585035Z"
    }
   },
   "outputs": [],
   "source": [
    "import warnings\n",
    "from pathlib import Path\n",
    "import numpy as np\n",
    "import pandas as pd\n",
    "import seaborn as sns\n",
    "import sklearn.metrics\n",
    "from sklearn.metrics import mean_squared_error\n",
    "from pylab import rcParams \n",
    "import matplotlib.cm as cm\n",
    "import matplotlib.pyplot as plt\n",
    "from sklearn.model_selection import cross_val_score\n",
    "from sklearn.compose import ColumnTransformer\n",
    "from sklearn.model_selection import train_test_split, KFold\n",
    "from sklearn.pipeline import make_pipeline, Pipeline\n",
    "from mlxtend.regressor import StackingCVRegressor\n",
    "from sklearn.base import BaseEstimator, TransformerMixin, RegressorMixin, clone\n",
    "import lightgbm as lgb\n",
    "from lightgbm import LGBMRegressor\n",
    "from xgboost import XGBRegressor\n",
    "from sklearn.kernel_ridge import KernelRidge"
   ]
  },
  {
   "cell_type": "code",
   "execution_count": 3,
   "metadata": {
    "ExecuteTime": {
     "end_time": "2020-01-24T00:55:24.171299Z",
     "start_time": "2020-01-24T00:55:24.169492Z"
    }
   },
   "outputs": [],
   "source": [
    "from sklearn.preprocessing import LabelEncoder"
   ]
  },
  {
   "cell_type": "code",
   "execution_count": 4,
   "metadata": {
    "ExecuteTime": {
     "end_time": "2020-01-24T00:55:24.532091Z",
     "start_time": "2020-01-24T00:55:24.523491Z"
    }
   },
   "outputs": [],
   "source": [
    "from sklearn.impute import SimpleImputer\n",
    "from sklearn.experimental import enable_iterative_imputer  \n",
    "from sklearn.impute import IterativeImputer\n",
    "from sklearn.preprocessing import OneHotEncoder"
   ]
  },
  {
   "cell_type": "code",
   "execution_count": 5,
   "metadata": {
    "ExecuteTime": {
     "end_time": "2020-01-24T00:55:24.937195Z",
     "start_time": "2020-01-24T00:55:24.907382Z"
    }
   },
   "outputs": [],
   "source": [
    "from sklearn.ensemble import (RandomForestRegressor, AdaBoostRegressor, ExtraTreesRegressor, \n",
    "GradientBoostingRegressor, VotingRegressor)\n",
    "\n",
    "from sklearn.linear_model import ARDRegression"
   ]
  },
  {
   "cell_type": "code",
   "execution_count": 6,
   "metadata": {
    "ExecuteTime": {
     "end_time": "2020-01-24T00:55:25.385857Z",
     "start_time": "2020-01-24T00:55:25.380970Z"
    }
   },
   "outputs": [],
   "source": [
    "from sklearn.preprocessing import MinMaxScaler\n",
    "from sklearn.preprocessing import MaxAbsScaler\n",
    "from sklearn.preprocessing import StandardScaler\n",
    "from sklearn.preprocessing import RobustScaler\n",
    "from sklearn.preprocessing import Normalizer\n",
    "from sklearn.preprocessing import QuantileTransformer\n",
    "from sklearn.preprocessing import PowerTransformer"
   ]
  },
  {
   "cell_type": "code",
   "execution_count": 7,
   "metadata": {
    "ExecuteTime": {
     "end_time": "2020-01-24T00:55:25.821353Z",
     "start_time": "2020-01-24T00:55:25.814134Z"
    }
   },
   "outputs": [],
   "source": [
    "from sklearn.linear_model import Ridge, SGDRegressor, BayesianRidge, Lasso, ElasticNet\n",
    "from sklearn.tree import DecisionTreeRegressor\n",
    "from sklearn.neighbors import KNeighborsRegressor\n",
    "from sklearn.svm import LinearSVR, SVR"
   ]
  },
  {
   "cell_type": "code",
   "execution_count": 8,
   "metadata": {
    "ExecuteTime": {
     "end_time": "2020-01-24T00:55:26.493240Z",
     "start_time": "2020-01-24T00:55:26.488848Z"
    }
   },
   "outputs": [],
   "source": [
    "%matplotlib inline\n",
    "pd.set_option('display.max_columns', None)\n",
    "sns.set(style=\"darkgrid\", color_codes=True)\n",
    "warnings.filterwarnings('ignore')"
   ]
  },
  {
   "cell_type": "code",
   "execution_count": 9,
   "metadata": {
    "ExecuteTime": {
     "end_time": "2020-01-24T00:55:27.651797Z",
     "start_time": "2020-01-24T00:55:27.544375Z"
    },
    "scrolled": true
   },
   "outputs": [],
   "source": [
    "# Read in data as pandas dataframe \n",
    "X_train = pd.read_csv('HP_MN_X_train.csv')\n",
    "X_test = pd.read_csv('HP_MN_X_test.csv')\n",
    "\n",
    "y_train = pd.read_csv('y_train.csv')"
   ]
  },
  {
   "cell_type": "code",
   "execution_count": 10,
   "metadata": {
    "ExecuteTime": {
     "end_time": "2020-01-24T00:55:28.317837Z",
     "start_time": "2020-01-24T00:55:28.298186Z"
    }
   },
   "outputs": [
    {
     "data": {
      "text/plain": [
       "((1457, 315), (1457,), (1459, 315))"
      ]
     },
     "execution_count": 10,
     "metadata": {},
     "output_type": "execute_result"
    }
   ],
   "source": [
    "X_train = X_train.drop('Unnamed: 0', axis=1)\n",
    "X_test = X_test.drop('Unnamed: 0', axis=1)\n",
    "y_train = y_train.drop('Unnamed: 0', axis=1)\n",
    "\n",
    "y_train = y_train.SalePrice\n",
    "\n",
    "X_train.shape, y_train.shape, X_test.shape"
   ]
  },
  {
   "cell_type": "code",
   "execution_count": 11,
   "metadata": {
    "ExecuteTime": {
     "end_time": "2020-01-24T00:55:29.516156Z",
     "start_time": "2020-01-24T00:55:29.498481Z"
    }
   },
   "outputs": [],
   "source": [
    "estimators = [\n",
    "    \n",
    "    SGDRegressor(loss='epsilon_insensitive', penalty='elasticnet', alpha=4.778421447265439e-05, \n",
    "                       l1_ratio=0.14999999999999974, fit_intercept=True, tol=0.001, epsilon=0.1, \n",
    "                       random_state=42, learning_rate='constant', eta0=7.559625810320152e-05, \n",
    "                       average=False),\n",
    "    \n",
    "    LGBMRegressor(objective='regression',num_leaves=5,\n",
    "                              learning_rate=0.05, n_estimators=720,\n",
    "                              max_bin = 55, bagging_fraction = 0.8,\n",
    "                              bagging_freq = 5, feature_fraction = 0.2319,\n",
    "                              feature_fraction_seed=9, bagging_seed=9, n_jobs=5,\n",
    "                              min_data_in_leaf =6, min_sum_hessian_in_leaf = 1),\n",
    "    \n",
    "    XGBRegressor(colsample_bytree=0.4603, gamma=0.0468, \n",
    "                             learning_rate=0.05, max_depth=3, \n",
    "                             min_child_weight=1.7817, n_estimators=3000,\n",
    "                             reg_alpha=0.4640, reg_lambda=0.8571,\n",
    "                             subsample=0.5213, silent=1, n_jobs=5,\n",
    "                             random_state =42),\n",
    "    \n",
    "    Ridge(alpha=9.458302019360064, tol=1e-100, random_state=42, fit_intercept=True),\n",
    "    \n",
    "    BayesianRidge(alpha_1=0.006428073117284319, alpha_2=6.579332246575683e-06,\n",
    "                  compute_score=False, copy_X=True, fit_intercept=True,\n",
    "                  lambda_1=0.00011233240329780266, lambda_2=0.0037649358067924714,\n",
    "                  n_iter=300, normalize=False, tol=0.001, verbose=False),\n",
    "    \n",
    "    AdaBoostRegressor(),\n",
    "    \n",
    "    ExtraTreesRegressor(),\n",
    "    \n",
    "    KernelRidge(alpha=0.6, kernel='polynomial', degree=2, coef0=2.5),\n",
    "    \n",
    "    GradientBoostingRegressor(n_estimators=6000,\n",
    "                                learning_rate=0.01,\n",
    "                                max_depth=4,\n",
    "                                max_features='sqrt',\n",
    "                                min_samples_leaf=15,\n",
    "                                min_samples_split=10,\n",
    "                                loss='huber',\n",
    "                                random_state=42),\n",
    "    \n",
    "    Lasso(alpha =0.0005, random_state=42),\n",
    "    \n",
    "    ElasticNet(alpha=0.0005, l1_ratio=.9, random_state=42),\n",
    "    \n",
    "    LinearSVR(epsilon=0.003651447080658049, tol=2.547030869157463e-05, C=15.568148066386238,\n",
    "              loss='squared_epsilon_insensitive', fit_intercept=True,\n",
    "              intercept_scaling=1.0, dual=False, verbose=0, random_state=0),\n",
    "    \n",
    "    SVR(C= 20, epsilon= 0.008, gamma=0.0003),\n",
    "    \n",
    "    KNeighborsRegressor(n_neighbors=5, weights='uniform'),\n",
    "    \n",
    "    RandomForestRegressor(random_state=42, criterion='friedman_mse',\n",
    "                                        max_depth=18, \n",
    "                                        min_samples_split=2,\n",
    "                                        max_leaf_nodes=None,\n",
    "                                        min_impurity_decrease=0.0,\n",
    "                                        min_samples_leaf=2, \n",
    "                                        n_estimators=600,\n",
    "                                        min_weight_fraction_leaf=0.0, n_jobs=5)\n",
    "    \n",
    "]"
   ]
  },
  {
   "cell_type": "code",
   "execution_count": 12,
   "metadata": {
    "ExecuteTime": {
     "end_time": "2020-01-24T00:55:30.869539Z",
     "start_time": "2020-01-24T00:55:30.865856Z"
    }
   },
   "outputs": [],
   "source": [
    "# Setup cross validation folds\n",
    "kf = KFold(n_splits=12, random_state=42, shuffle=True)"
   ]
  },
  {
   "cell_type": "code",
   "execution_count": 13,
   "metadata": {
    "ExecuteTime": {
     "end_time": "2020-01-24T00:55:31.257981Z",
     "start_time": "2020-01-24T00:55:31.255453Z"
    }
   },
   "outputs": [],
   "source": [
    "def cv_rmse(model, X=X_train):\n",
    "    rmse = np.sqrt(-cross_val_score(model, X_train, y_train, scoring=\"neg_mean_squared_error\", cv=kf, n_jobs=5))\n",
    "    return (rmse)"
   ]
  },
  {
   "cell_type": "code",
   "execution_count": 14,
   "metadata": {
    "ExecuteTime": {
     "end_time": "2020-01-24T01:43:26.279080Z",
     "start_time": "2020-01-24T00:55:35.057506Z"
    },
    "scrolled": true
   },
   "outputs": [
    {
     "name": "stdout",
     "output_type": "stream",
     "text": [
      "SGDRegressor score = 577.3844\n",
      "\n",
      "LGBMRegressor score = 0.1123\n",
      "\n",
      "XGBRegressor score = 0.1137\n",
      "\n",
      "Ridge score = 0.1094\n",
      "\n",
      "BayesianRidge score = 0.1095\n",
      "\n",
      "AdaBoostRegressor score = 0.1704\n",
      "\n",
      "ExtraTreesRegressor score = 0.1458\n",
      "\n",
      "KernelRidge score = 0.2281\n",
      "\n",
      "GradientBoostingRegressor score = 0.1122\n",
      "\n",
      "Lasso score = 0.1073\n",
      "\n",
      "ElasticNet score = 0.1073\n",
      "\n",
      "LinearSVR score = 0.1779\n",
      "\n",
      "SVR score = 0.2905\n",
      "\n",
      "KNeighborsRegressor score = 0.1992\n",
      "\n",
      "RandomForestRegressor score = 0.1351\n",
      "\n"
     ]
    }
   ],
   "source": [
    "score_iterative_qt0 = []\n",
    "est0 = []\n",
    "\n",
    "for impute_estimator in estimators:\n",
    "    estimator = make_pipeline(\n",
    "        RobustScaler(),\n",
    "        impute_estimator)\n",
    "    \n",
    "    cv = cv_rmse(impute_estimator)\n",
    "    print(f'{impute_estimator.__class__.__name__} score = {round(cv.mean(),4)}')\n",
    "    print()\n",
    "    score_iterative_qt0.append(round(cv.mean(),4))\n",
    "    est0.append(str(impute_estimator.__class__.__name__))"
   ]
  },
  {
   "cell_type": "code",
   "execution_count": 15,
   "metadata": {
    "ExecuteTime": {
     "end_time": "2020-01-24T01:43:26.591941Z",
     "start_time": "2020-01-24T01:43:26.586671Z"
    }
   },
   "outputs": [],
   "source": [
    "scores0 = pd.concat([pd.Series(score_iterative_qt0), pd.Series(est0)], axis=1)\n",
    "scores0.columns = ['score', 'esimator']\n",
    "scores0 = scores0.sort_values(by='score', ascending=False)\n",
    "scores0.index = scores0.esimator\n",
    "scores0 = scores0.drop('esimator', axis=1)\n",
    "scores0 = scores0.iloc[1:]"
   ]
  },
  {
   "cell_type": "code",
   "execution_count": 17,
   "metadata": {
    "ExecuteTime": {
     "end_time": "2020-01-24T01:45:23.733374Z",
     "start_time": "2020-01-24T01:45:23.411026Z"
    }
   },
   "outputs": [
    {
     "data": {
      "image/png": "[encoded data removed]",
      "text/plain": [
       "<Figure size 936x432 with 1 Axes>"
      ]
     },
     "metadata": {},
     "output_type": "display_data"
    }
   ],
   "source": [
    "# plot boston results\n",
    "fig, ax = plt.subplots(figsize=(13, 6))\n",
    "sns.barplot(x='score', y=scores0.index.values, data=scores0, ax=ax)\n",
    "for i, v in enumerate(scores0.values):\n",
    "    ax.text(v + 0.028, i, str(v), color='k', fontweight='bold', fontsize=12, va='center', ha = 'right')\n",
    "ax.set_title('Kings_County_Housing Regression with Different Regressors')\n",
    "ax.set_xlabel('5 fold CV RMSE (smaller is better)')\n",
    "plt.margins(0.12)\n",
    "plt.grid(False)\n",
    "plt.show()"
   ]
  },
  {
   "cell_type": "code",
   "execution_count": 18,
   "metadata": {
    "ExecuteTime": {
     "end_time": "2020-01-24T01:45:26.774242Z",
     "start_time": "2020-01-24T01:45:26.768566Z"
    }
   },
   "outputs": [],
   "source": [
    "#Validation function\n",
    "n_folds = 5\n",
    "\n",
    "def rmsle_cv(model):\n",
    "    kf = KFold(n_folds, shuffle=True, random_state=42).get_n_splits(X_train.values)\n",
    "    rmse= np.sqrt(-cross_val_score(model, X_train.values, y_train, scoring=\"neg_mean_squared_error\", cv = kf, \n",
    "                                   n_jobs=5))\n",
    "    return(rmse)"
   ]
  },
  {
   "cell_type": "code",
   "execution_count": 19,
   "metadata": {
    "ExecuteTime": {
     "end_time": "2020-01-24T01:45:27.266652Z",
     "start_time": "2020-01-24T01:45:27.249864Z"
    }
   },
   "outputs": [],
   "source": [
    "rf = RandomForestRegressor(random_state=0, criterion='friedman_mse', min_samples_split = 8, \n",
    "                          max_leaf_nodes=None, min_impurity_decrease=0.0, min_samples_leaf=3, \n",
    "                          n_estimators=1200, min_weight_fraction_leaf=0.0, n_jobs=5)\n",
    "\n",
    "xgboost = XGBRegressor(colsample_bytree=0.4603, gamma=0.0468, \n",
    "                             learning_rate=0.05, max_depth=3, \n",
    "                             min_child_weight=1.7817, n_estimators=2200,\n",
    "                             reg_alpha=0.4640, reg_lambda=0.8571,\n",
    "                             subsample=0.5213, silent=1, n_jobs=5,\n",
    "                             random_state =42)\n",
    "\n",
    "ridge = Ridge(alpha=9.458302019360064, tol=1e-100, random_state=42, fit_intercept=True)\n",
    "\n",
    "gbr = GradientBoostingRegressor(n_estimators=6000,\n",
    "                                learning_rate=0.01,\n",
    "                                max_depth=4,\n",
    "                                max_features='sqrt',\n",
    "                                min_samples_leaf=15,\n",
    "                                min_samples_split=10,\n",
    "                                loss='huber',\n",
    "                                random_state=42)\n",
    "\n",
    "lightgbm = LGBMRegressor(objective='regression',num_leaves=5,\n",
    "                              learning_rate=0.05, n_estimators=720,\n",
    "                              max_bin = 55, bagging_fraction = 0.8,\n",
    "                              bagging_freq = 5, feature_fraction = 0.2319,\n",
    "                              feature_fraction_seed=9, bagging_seed=9, n_jobs=5,\n",
    "                              min_data_in_leaf =6, min_sum_hessian_in_leaf = 1)\n",
    "\n",
    "bridge = BayesianRidge(alpha_1=0.006428073117284319, alpha_2=6.579332246575683e-06,\n",
    "                  compute_score=False, copy_X=True, fit_intercept=True,\n",
    "                  lambda_1=0.00011233240329780266, lambda_2=0.0037649358067924714,\n",
    "                  n_iter=300, normalize=False, tol=0.001, verbose=False)\n",
    "\n",
    "lasso = Lasso(alpha =0.0005, random_state=42)\n",
    "\n",
    "enet = ElasticNet(alpha=0.0005, l1_ratio=.9, random_state=42)\n",
    "\n",
    "etree = ExtraTreesRegressor()\n",
    "\n",
    "svr = SVR(C= 20, epsilon= 0.008, gamma=0.0003)\n",
    "\n",
    "krdg = KernelRidge(alpha=0.6, kernel='polynomial', degree=2, coef0=2.5)"
   ]
  },
  {
   "cell_type": "code",
   "execution_count": 20,
   "metadata": {
    "ExecuteTime": {
     "end_time": "2020-01-24T01:45:28.202936Z",
     "start_time": "2020-01-24T01:45:28.199155Z"
    }
   },
   "outputs": [],
   "source": [
    "class AveragingModels(BaseEstimator, RegressorMixin, TransformerMixin):\n",
    "    def __init__(self, models):\n",
    "        self.models = models\n",
    "        \n",
    "    # we define clones of the original models to fit the data in\n",
    "    def fit(self, X, y):\n",
    "        self.models_ = [clone(x) for x in self.models]\n",
    "        \n",
    "        # Train cloned base models\n",
    "        for model in self.models_:\n",
    "            model.fit(X, y)\n",
    "\n",
    "        return self\n",
    "    \n",
    "    #Now we do the predictions for cloned models and average them\n",
    "    def predict(self, X):\n",
    "        predictions = np.column_stack([\n",
    "            model.predict(X) for model in self.models_\n",
    "        ])\n",
    "        return np.mean(predictions, axis=1)   "
   ]
  },
  {
   "cell_type": "code",
   "execution_count": 21,
   "metadata": {
    "ExecuteTime": {
     "end_time": "2020-01-24T01:46:47.712670Z",
     "start_time": "2020-01-24T01:45:28.840202Z"
    }
   },
   "outputs": [
    {
     "name": "stdout",
     "output_type": "stream",
     "text": [
      " Averaged base models score: 0.1068 (0.0068)\n",
      "\n"
     ]
    }
   ],
   "source": [
    "averaged_models = AveragingModels(models = (enet, lasso, lightgbm, gbr, ridge))\n",
    "\n",
    "score = rmsle_cv(averaged_models)\n",
    "print(\" Averaged base models score: {:.4f} ({:.4f})\\n\".format(score.mean(), score.std()))"
   ]
  },
  {
   "cell_type": "code",
   "execution_count": 22,
   "metadata": {
    "ExecuteTime": {
     "end_time": "2020-01-24T01:46:47.984760Z",
     "start_time": "2020-01-24T01:46:47.979057Z"
    }
   },
   "outputs": [],
   "source": [
    "class StackingAveragedModels(BaseEstimator, RegressorMixin, TransformerMixin):\n",
    "    def __init__(self, base_models, meta_model, n_folds=5):\n",
    "        self.base_models = base_models\n",
    "        self.meta_model = meta_model\n",
    "        self.n_folds = n_folds\n",
    "   \n",
    "    # We again fit the data on clones of the original models\n",
    "    def fit(self, X, y):\n",
    "        self.base_models_ = [list() for x in self.base_models]\n",
    "        self.meta_model_ = clone(self.meta_model)\n",
    "        kfold = KFold(n_splits=self.n_folds, shuffle=True, random_state=156)\n",
    "        \n",
    "        # Train cloned base models then create out-of-fold predictions\n",
    "        # that are needed to train the cloned meta-model\n",
    "        out_of_fold_predictions = np.zeros((X.shape[0], len(self.base_models)))\n",
    "        for i, model in enumerate(self.base_models):\n",
    "            for train_index, holdout_index in kfold.split(X, y):\n",
    "                instance = clone(model)\n",
    "                self.base_models_[i].append(instance)\n",
    "                y0 = y.values\n",
    "                instance.fit(X[train_index], y0[train_index])\n",
    "                y_pred = instance.predict(X[holdout_index])\n",
    "                out_of_fold_predictions[holdout_index, i] = y_pred\n",
    "                \n",
    "        # Now train the cloned  meta-model using the out-of-fold predictions as new feature\n",
    "        self.meta_model_.fit(out_of_fold_predictions, y)\n",
    "        return self\n",
    "   \n",
    "    #Do the predictions of all base models on the test data and use the averaged predictions as \n",
    "    #meta-features for the final prediction which is done by the meta-model\n",
    "    def predict(self, X):\n",
    "        meta_features = np.column_stack([\n",
    "            np.column_stack([model.predict(X) for model in base_models]).mean(axis=1)\n",
    "            for base_models in self.base_models_ ])\n",
    "        return self.meta_model_.predict(meta_features)"
   ]
  },
  {
   "cell_type": "code",
   "execution_count": 23,
   "metadata": {
    "ExecuteTime": {
     "end_time": "2020-01-24T03:00:35.883874Z",
     "start_time": "2020-01-24T01:46:48.247767Z"
    }
   },
   "outputs": [
    {
     "name": "stdout",
     "output_type": "stream",
     "text": [
      "Stacking Averaged models score: 0.1066 (0.0065)\n"
     ]
    }
   ],
   "source": [
    "stacked_averaged_models = StackingAveragedModels(base_models = (lasso, bridge, lightgbm, gbr, xgboost),\n",
    "                                                 meta_model = enet)\n",
    "\n",
    "score = rmsle_cv(stacked_averaged_models)\n",
    "print(\"Stacking Averaged models score: {:.4f} ({:.4f})\".format(score.mean(), score.std()))"
   ]
  },
  {
   "cell_type": "code",
   "execution_count": 24,
   "metadata": {
    "ExecuteTime": {
     "end_time": "2020-01-24T03:00:36.173242Z",
     "start_time": "2020-01-24T03:00:36.170742Z"
    }
   },
   "outputs": [],
   "source": [
    "def rmsle(y, y_pred):\n",
    "    return np.sqrt(mean_squared_error(y, y_pred))"
   ]
  },
  {
   "cell_type": "code",
   "execution_count": 25,
   "metadata": {
    "ExecuteTime": {
     "end_time": "2020-01-24T03:01:50.270790Z",
     "start_time": "2020-01-24T03:00:36.438071Z"
    }
   },
   "outputs": [
    {
     "name": "stdout",
     "output_type": "stream",
     "text": [
      "0.08500140079820087\n"
     ]
    }
   ],
   "source": [
    "st_avg_models = stacked_averaged_models.fit(X_train.values, y_train)\n",
    "st_avg_models_train_pred = st_avg_models.predict(X_train.values)\n",
    "st_avg_models_pred = np.expm1(st_avg_models.predict(X_test.values))\n",
    "print(rmsle(y_train, st_avg_models_train_pred))"
   ]
  },
  {
   "cell_type": "code",
   "execution_count": 27,
   "metadata": {
    "ExecuteTime": {
     "end_time": "2020-01-24T03:01:50.819399Z",
     "start_time": "2020-01-24T03:01:50.817266Z"
    }
   },
   "outputs": [],
   "source": [
    "# Stack up all the models above, optimized using xgboost\n",
    "stack_gen = StackingCVRegressor(regressors=(enet, lasso, bridge, lightgbm, gbr, xgboost),\n",
    "                                meta_regressor=lightgbm,\n",
    "                                use_features_in_secondary=True)"
   ]
  },
  {
   "cell_type": "code",
   "execution_count": 28,
   "metadata": {
    "ExecuteTime": {
     "end_time": "2020-01-24T03:03:19.916372Z",
     "start_time": "2020-01-24T03:01:51.096572Z"
    }
   },
   "outputs": [
    {
     "name": "stdout",
     "output_type": "stream",
     "text": [
      "0.06277481886740532\n"
     ]
    }
   ],
   "source": [
    "stack_gen.fit(X_train.values, y_train)\n",
    "stack_gen_train_pred = stack_gen.predict(X_train.values)\n",
    "stack_gen_pred = np.expm1(stack_gen.predict(X_test.values))\n",
    "print(rmsle(y_train, stack_gen_train_pred))"
   ]
  },
  {
   "cell_type": "code",
   "execution_count": 29,
   "metadata": {
    "ExecuteTime": {
     "end_time": "2020-01-24T03:03:49.028787Z",
     "start_time": "2020-01-24T03:03:20.196139Z"
    }
   },
   "outputs": [],
   "source": [
    "# Fit Models \n",
    "avg_models = averaged_models.fit(X_train, y_train)\n",
    "\n",
    "lgb_model_full_data = lightgbm.fit(X_train, y_train)\n",
    "\n",
    "xgb_model_full_data = xgboost.fit(X_train, y_train)\n",
    "\n",
    "enet_model_full_data = enet.fit(X_train, y_train)\n",
    "\n",
    "bridge_model_full_data = bridge.fit(X_train, y_train)\n",
    "\n",
    "lasso_model_full_data = lasso.fit(X_train, y_train)\n",
    "\n",
    "gbr_model_full_data = gbr.fit(X_train, y_train)"
   ]
  },
  {
   "cell_type": "code",
   "execution_count": 30,
   "metadata": {
    "ExecuteTime": {
     "end_time": "2020-01-24T03:03:49.319715Z",
     "start_time": "2020-01-24T03:03:49.317284Z"
    }
   },
   "outputs": [],
   "source": [
    "# Blend models in order to make the final predictions more robust to overfitting\n",
    "def blended_predictions(X_train):\n",
    "    return ((0.05 * enet_model_full_data.predict(X_train)) + \\\n",
    "            (0.05 * gbr_model_full_data.predict(X_train)) + \\\n",
    "            (0.05 * lasso_model_full_data.predict(X_train)) + \\\n",
    "            (0.85 * stack_gen.predict(np.array(X_train))))"
   ]
  },
  {
   "cell_type": "code",
   "execution_count": 31,
   "metadata": {
    "ExecuteTime": {
     "end_time": "2020-01-24T03:03:50.006447Z",
     "start_time": "2020-01-24T03:03:49.604944Z"
    }
   },
   "outputs": [
    {
     "name": "stdout",
     "output_type": "stream",
     "text": [
      "0.06400352135052648\n"
     ]
    }
   ],
   "source": [
    "# Get final precitions from the blended model\n",
    "blended_score = rmsle(y_train, blended_predictions(X_train))\n",
    "print(blended_score)"
   ]
  },
  {
   "cell_type": "code",
   "execution_count": 32,
   "metadata": {
    "ExecuteTime": {
     "end_time": "2020-01-24T03:04:06.248844Z",
     "start_time": "2020-01-24T03:03:50.291519Z"
    }
   },
   "outputs": [
    {
     "data": {
      "text/plain": [
       "0.08124353077844346"
      ]
     },
     "execution_count": 32,
     "metadata": {},
     "output_type": "execute_result"
    }
   ],
   "source": [
    "# Voting Regressor \n",
    "vtreg = VotingRegressor(estimators=[('rf1', enet), ('rf2', lasso), ('gbc', bridge), \n",
    "                                    ('xgb',lightgbm), ('gbc1', gbr), ('xgb1',xgboost)], \n",
    "                                    weights = [2.5,1.5,1.5,1.5,1.5,1.5])\n",
    "\n",
    "vtreg.fit(X_train, y_train)\n",
    "\n",
    "y_val_pred = vtreg.predict(X_train)\n",
    "rmsle(y_train, y_val_pred)"
   ]
  },
  {
   "cell_type": "code",
   "execution_count": null,
   "metadata": {},
   "outputs": [],
   "source": []
  }
 ],
 "metadata": {
  "hide_input": false,
  "kernelspec": {
   "display_name": "Python 3",
   "language": "python",
   "name": "python3"
  },
  "language_info": {
   "codemirror_mode": {
    "name": "ipython",
    "version": 3
   },
   "file_extension": ".py",
   "mimetype": "text/x-python",
   "name": "python",
   "nbconvert_exporter": "python",
   "pygments_lexer": "ipython3",
   "version": "3.6.9"
  },
  "toc": {
   "base_numbering": 1,
   "nav_menu": {},
   "number_sections": true,
   "sideBar": true,
   "skip_h1_title": false,
   "title_cell": "Table of Contents",
   "title_sidebar": "Contents",
   "toc_cell": false,
   "toc_position": {
    "height": "calc(100% - 180px)",
    "left": "10px",
    "top": "150px",
    "width": "512px"
   },
   "toc_section_display": true,
   "toc_window_display": false
  },
  "varInspector": {
   "cols": {
    "lenName": 16,
    "lenType": 16,
    "lenVar": 40
   },
   "kernels_config": {
    "python": {
     "delete_cmd_postfix": "",
     "delete_cmd_prefix": "del ",
     "library": "var_list.py",
     "varRefreshCmd": "print(var_dic_list())"
    },
    "r": {
     "delete_cmd_postfix": ") ",
     "delete_cmd_prefix": "rm(",
     "library": "var_list.r",
     "varRefreshCmd": "cat(var_dic_list()) "
    }
   },
   "types_to_exclude": [
    "module",
    "function",
    "builtin_function_or_method",
    "instance",
    "_Feature"
   ],
   "window_display": false
  }
 },
 "nbformat": 4,
 "nbformat_minor": 4
}
